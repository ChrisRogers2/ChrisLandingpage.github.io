{
  "cells": [
    {
      "cell_type": "markdown",
      "metadata": {
        "id": "view-in-github",
        "colab_type": "text"
      },
      "source": [
        "<a href=\"https://colab.research.google.com/github/ChrisRogers2/ChrisLandingpage.github.io/blob/main/Logistic_Regression_Pasted_(3).ipynb\" target=\"_parent\"><img src=\"https://colab.research.google.com/assets/colab-badge.svg\" alt=\"Open In Colab\"/></a>"
      ]
    },
    {
      "cell_type": "markdown",
      "id": "a0c6421f",
      "metadata": {
        "id": "a0c6421f"
      },
      "source": [
        "## Logisitic Regression\n"
      ]
    },
    {
      "cell_type": "code",
      "source": [
        "def confusion1(y,pred):\n",
        "  TN,FP, FN, TP = confusion_matrix(y, np.round(pred)).ravel()\n",
        "\n",
        "  cf_matrixlin = confusion_matrix(y, np.round(pred))\n",
        "  print(cf_matrixlin)\n",
        "\n",
        "  #Accuracy = (TP + TN)/(TP+TN+FP+FN)   This is the total amount that are classified correctly\n",
        "  accuracy=(TP + TN)/(TP+TN+FP+FN)\n",
        "  print(\"Accuracy: \", accuracy)\n",
        "\n",
        "  #Sensitivity = TP/(TP+FN)       This is the most powerful performance measure - Measure of how well it calculates positives\n",
        "  sensitivity = TP/(TP+FN)\n",
        "  print(\"Sensitivity: \", round(sensitivity,2))\n",
        "\n",
        "  #Specificity = TN/(TN+FP)  Measure of how well it calculates negatives\n",
        "  specificity = TN/(TN+FP)\n",
        "  print(\"Specificity: \", specificity)\n",
        "\n",
        "  MisclassificationRate = (FP+FN)/(TN+TP+FN+FP)  #This is 1 - Accuracy\n",
        "  print(\"MisclassificationRate: \",MisclassificationRate)\n",
        "\n",
        "  precision=TP/(TP+FP)\n",
        "  recall=TP/(TP+FN)\n",
        "  print(\"Precision=TP/Tp+FP\", precision)\n",
        "  print(\"REcall=TP/Tp+FN\",recall)"
      ],
      "metadata": {
        "id": "nduVlFbKjuNK"
      },
      "id": "nduVlFbKjuNK",
      "execution_count": 1,
      "outputs": []
    },
    {
      "cell_type": "code",
      "execution_count": 2,
      "id": "cb671264",
      "metadata": {
        "id": "cb671264"
      },
      "outputs": [],
      "source": [
        "from sklearn.linear_model import LogisticRegression\n",
        "from sklearn.linear_model import LinearRegression\n",
        "#import sklearn.metrics as metrics\n",
        "#import statsmodels.formula.api as smf\n",
        "#import statsmodels.api as sm\n",
        "import numpy as np\n",
        "from sklearn.metrics import confusion_matrix, classification_report, accuracy_score"
      ]
    },
    {
      "cell_type": "markdown",
      "id": "f7d0be42",
      "metadata": {
        "id": "f7d0be42"
      },
      "source": [
        "**Problem**##\n",
        "(FILE Purchase). Annabel, a retail analyst, has been following Under Armour, Inc., the pioneer in the compression-gear market. Compression garments are meant to keep moisture away from a wearer’s body during athletic activities in warm and cool weather. Annabel believes that the Under Armour brand attracts a younger customer, whereas the more established companies, Nike and Adidas, draw an older clientele. In order to test her belief, she collects data on the age of the customers and whether or not they purchased Under Armour (Purchase; 1 for purchase, 0 otherwise)."
      ]
    },
    {
      "cell_type": "code",
      "source": [
        "from google.colab import drive\n",
        "drive.mount('/content/drive')"
      ],
      "metadata": {
        "colab": {
          "base_uri": "https://localhost:8080/"
        },
        "id": "37yKCz088DwW",
        "outputId": "53169dee-e29a-4fd7-8b65-4a5fede24720"
      },
      "execution_count": 3,
      "outputs": [
        {
          "output_type": "stream",
          "name": "stdout",
          "text": [
            "Mounted at /content/drive\n"
          ]
        }
      ],
      "id": "37yKCz088DwW"
    },
    {
      "cell_type": "code",
      "source": [
        "# Mount Google drive to access the dataset\n",
        "from google.colab import drive\n",
        "\n",
        "drive.mount('/content/drive')"
      ],
      "metadata": {
        "id": "Z38M2fNyWAxC",
        "colab": {
          "base_uri": "https://localhost:8080/"
        },
        "outputId": "92f216b1-e292-45ad-8221-cf27bc641383"
      },
      "execution_count": 4,
      "outputs": [
        {
          "output_type": "stream",
          "name": "stdout",
          "text": [
            "Drive already mounted at /content/drive; to attempt to forcibly remount, call drive.mount(\"/content/drive\", force_remount=True).\n"
          ]
        }
      ],
      "id": "Z38M2fNyWAxC"
    },
    {
      "cell_type": "code",
      "execution_count": 11,
      "metadata": {
        "id": "a7f654cf"
      },
      "outputs": [],
      "source": [
        "# Reading the dataset\n",
        "import pandas as pd\n"
      ],
      "id": "a7f654cf"
    },
    {
      "cell_type": "code",
      "source": [
        "myData = pd.read_excel('/content/drive/MyDrive/Data Mining/jaggia_ba_1e_ch07_Data_Files (1).xlsx', sheet_name='Purchase')\n"
      ],
      "metadata": {
        "id": "ixvn8enUxs4f"
      },
      "id": "ixvn8enUxs4f",
      "execution_count": 12,
      "outputs": []
    },
    {
      "cell_type": "code",
      "execution_count": 13,
      "id": "b2bf148d",
      "metadata": {
        "id": "b2bf148d",
        "colab": {
          "base_uri": "https://localhost:8080/"
        },
        "outputId": "863cec43-0e36-46a8-d44b-0c1066291dc1"
      },
      "outputs": [
        {
          "output_type": "stream",
          "name": "stdout",
          "text": [
            "<class 'pandas.core.frame.DataFrame'>\n",
            "RangeIndex: 30 entries, 0 to 29\n",
            "Data columns (total 2 columns):\n",
            " #   Column    Non-Null Count  Dtype\n",
            "---  ------    --------------  -----\n",
            " 0   Purchase  30 non-null     int64\n",
            " 1   Age       30 non-null     int64\n",
            "dtypes: int64(2)\n",
            "memory usage: 608.0 bytes\n",
            "None\n",
            "   Purchase  Age\n",
            "0         1   30\n",
            "1         0   19\n",
            "2         0   34\n",
            "3         0   29\n",
            "4         1   39\n"
          ]
        }
      ],
      "source": [
        "\n",
        "\n",
        "# print whole sheet data\n",
        "#print(myData)\n",
        "\n",
        "print(myData.info())\n",
        "print(myData.head())"
      ]
    },
    {
      "cell_type": "markdown",
      "id": "0bb333f4",
      "metadata": {
        "id": "0bb333f4"
      },
      "source": [
        "a) Estimate the linear probability model using Purchase as the response variable and Age as the predictor variable."
      ]
    },
    {
      "cell_type": "code",
      "source": [
        "#Linear\n",
        "X, y = myData[[\"Age\"]], myData.Purchase\n",
        "linear_regressor = LinearRegression()  # create object for the class\n",
        "linear_regressor.fit(X.values, y)  # perform linear regression & train model\n",
        "y_predlin = linear_regressor.predict(X.values)  # make predictions and get probabilities"
      ],
      "metadata": {
        "id": "rTxqWk09xhCu"
      },
      "id": "rTxqWk09xhCu",
      "execution_count": 14,
      "outputs": []
    },
    {
      "cell_type": "code",
      "source": [
        "confusion1(y,y_predlin)"
      ],
      "metadata": {
        "colab": {
          "base_uri": "https://localhost:8080/"
        },
        "id": "XAoRNz1HyCNg",
        "outputId": "edb4a31d-9a68-4b0d-96bd-1606da2a461b"
      },
      "id": "XAoRNz1HyCNg",
      "execution_count": 17,
      "outputs": [
        {
          "output_type": "stream",
          "name": "stdout",
          "text": [
            "[[22  1]\n",
            " [ 6  1]]\n",
            "Accuracy:  0.7666666666666667\n",
            "Sensitivity:  0.14\n",
            "Specificity:  0.9565217391304348\n",
            "MisclassificationRate:  0.23333333333333334\n",
            "Precision=TP/Tp+FP 0.5\n",
            "REcall=TP/Tp+FN 0.14285714285714285\n"
          ]
        }
      ]
    },
    {
      "cell_type": "markdown",
      "id": "b4a20ef8",
      "metadata": {
        "id": "b4a20ef8"
      },
      "source": [
        "b) Compute the predicted probability of an Under Armour purchase for a 20-year-old customer and a 30-year-old customer."
      ]
    },
    {
      "cell_type": "code",
      "execution_count": 18,
      "id": "8a1782b1",
      "metadata": {
        "id": "8a1782b1",
        "colab": {
          "base_uri": "https://localhost:8080/"
        },
        "outputId": "2826cfc8-152a-4994-ea11-0ab3baba3a5e"
      },
      "outputs": [
        {
          "output_type": "stream",
          "name": "stdout",
          "text": [
            "[0.44581542 0.25381353]\n"
          ]
        }
      ],
      "source": [
        "Xnew=[[20],[30]]\n",
        "\n",
        "ylin =linear_regressor.predict(Xnew)\n",
        "# show the inputs and predicted outputs\n",
        "print(ylin)"
      ]
    },
    {
      "cell_type": "markdown",
      "id": "b463225d",
      "metadata": {
        "id": "b463225d"
      },
      "source": [
        "c) Test Annabel’s belief that the Under Armour brand attracts a younger customer, at the 5% level."
      ]
    },
    {
      "cell_type": "code",
      "source": [
        "import statsmodels.formula.api as smf\n",
        "model = smf.ols(formula='Purchase ~ Age',\n",
        "                data=myData).fit()\n",
        "\n",
        "# model summary\n",
        "print(model.summary())\n",
        "#P value is .031 for age so it is in the confidence interval and we reject null"
      ],
      "metadata": {
        "id": "e3rogRNvztR2",
        "colab": {
          "base_uri": "https://localhost:8080/"
        },
        "outputId": "c676cebe-9a58-4a01-eeb4-28aa7c6824a8"
      },
      "id": "e3rogRNvztR2",
      "execution_count": 19,
      "outputs": [
        {
          "output_type": "stream",
          "name": "stdout",
          "text": [
            "                            OLS Regression Results                            \n",
            "==============================================================================\n",
            "Dep. Variable:               Purchase   R-squared:                       0.156\n",
            "Model:                            OLS   Adj. R-squared:                  0.125\n",
            "Method:                 Least Squares   F-statistic:                     5.156\n",
            "Date:                Tue, 16 Apr 2024   Prob (F-statistic):             0.0311\n",
            "Time:                        16:41:21   Log-Likelihood:                -14.218\n",
            "No. Observations:                  30   AIC:                             32.44\n",
            "Df Residuals:                      28   BIC:                             35.24\n",
            "Df Model:                           1                                         \n",
            "Covariance Type:            nonrobust                                         \n",
            "==============================================================================\n",
            "                 coef    std err          t      P>|t|      [0.025      0.975]\n",
            "------------------------------------------------------------------------------\n",
            "Intercept      0.8298      0.273      3.042      0.005       0.271       1.389\n",
            "Age           -0.0192      0.008     -2.271      0.031      -0.037      -0.002\n",
            "==============================================================================\n",
            "Omnibus:                        4.767   Durbin-Watson:                   1.984\n",
            "Prob(Omnibus):                  0.092   Jarque-Bera (JB):                4.306\n",
            "Skew:                           0.913   Prob(JB):                        0.116\n",
            "Kurtosis:                       2.669   Cond. No.                         120.\n",
            "==============================================================================\n",
            "\n",
            "Notes:\n",
            "[1] Standard Errors assume that the covariance matrix of the errors is correctly specified.\n"
          ]
        }
      ]
    },
    {
      "cell_type": "markdown",
      "id": "2680a718",
      "metadata": {
        "id": "2680a718"
      },
      "source": [
        "## Problen continued\n",
        "FILE Purchase. Refer to the previous exercise for a description of the data set. Estimate the logistic regression model where the Under Armour purchase depends on age."
      ]
    },
    {
      "cell_type": "code",
      "execution_count": 20,
      "id": "e1d711c4",
      "metadata": {
        "id": "e1d711c4"
      },
      "outputs": [],
      "source": [
        "#Logistic\n",
        "X, y = myData[[\"Age\"]], myData.Purchase\n",
        "logistic_regressor = LogisticRegression()  # create object for the class\n",
        "logistic_regressor.fit(X.values, y)  # perform logistic regression & train model\n",
        "y_predlog = logistic_regressor.predict(X.values)  # make predictions and get response (0 or 1)\n",
        "y_predlogp = logistic_regressor.predict_proba(X.values)  # make predictions and get probabilities\n",
        "\n"
      ]
    },
    {
      "cell_type": "code",
      "source": [
        "confusion1(y,y_predlog)"
      ],
      "metadata": {
        "colab": {
          "base_uri": "https://localhost:8080/"
        },
        "id": "i5s5luk_yklE",
        "outputId": "7bb11b74-1ab7-4d69-f084-86cb19cc722c"
      },
      "id": "i5s5luk_yklE",
      "execution_count": 21,
      "outputs": [
        {
          "output_type": "stream",
          "name": "stdout",
          "text": [
            "[[22  1]\n",
            " [ 6  1]]\n",
            "Accuracy:  0.7666666666666667\n",
            "Sensitivity:  0.14\n",
            "Specificity:  0.9565217391304348\n",
            "MisclassificationRate:  0.23333333333333334\n",
            "Precision=TP/Tp+FP 0.5\n",
            "REcall=TP/Tp+FN 0.14285714285714285\n"
          ]
        }
      ]
    },
    {
      "cell_type": "markdown",
      "id": "36de7193",
      "metadata": {
        "id": "36de7193"
      },
      "source": [
        "a) Compute the predicted probability of an Under Armour purchase for a 20-year-old customer and a 30-year-old customer."
      ]
    },
    {
      "cell_type": "code",
      "execution_count": 22,
      "id": "0c967c7a",
      "metadata": {
        "id": "0c967c7a",
        "colab": {
          "base_uri": "https://localhost:8080/"
        },
        "outputId": "d9d6e5fe-e5d3-412e-9756-f09dc0d8bb7f"
      },
      "outputs": [
        {
          "output_type": "stream",
          "name": "stdout",
          "text": [
            "[0.46844634 0.20800098]\n"
          ]
        }
      ],
      "source": [
        "Xnew=[[20],[30]]\n",
        "ylog =logistic_regressor.predict_proba(Xnew)\n",
        "# show the inputs and predicted outputs\n",
        "print(ylog[:,1])"
      ]
    },
    {
      "cell_type": "markdown",
      "id": "02c2eb56",
      "metadata": {
        "id": "02c2eb56"
      },
      "source": [
        "b) Test Annabel’s belief that the Under Armour brand attracts a younger customer, at the 5% level."
      ]
    },
    {
      "cell_type": "code",
      "source": [
        "import statsmodels.api as sm\n",
        "log_reg = sm.Logit(y,X).fit()\n",
        "print(log_reg.summary())\n",
        "#per the below, P is .003 and is much lower than .05 so reject null"
      ],
      "metadata": {
        "id": "wShmQbF02SVy",
        "colab": {
          "base_uri": "https://localhost:8080/"
        },
        "outputId": "c178a8d6-2345-4f4a-8ca2-6f07898430c2"
      },
      "id": "wShmQbF02SVy",
      "execution_count": 23,
      "outputs": [
        {
          "output_type": "stream",
          "name": "stdout",
          "text": [
            "Optimization terminated successfully.\n",
            "         Current function value: 0.494085\n",
            "         Iterations 5\n",
            "                           Logit Regression Results                           \n",
            "==============================================================================\n",
            "Dep. Variable:               Purchase   No. Observations:                   30\n",
            "Model:                          Logit   Df Residuals:                       29\n",
            "Method:                           MLE   Df Model:                            0\n",
            "Date:                Tue, 16 Apr 2024   Pseudo R-squ.:                 0.09054\n",
            "Time:                        16:43:28   Log-Likelihood:                -14.823\n",
            "converged:                       True   LL-Null:                       -16.298\n",
            "Covariance Type:            nonrobust   LLR p-value:                       nan\n",
            "==============================================================================\n",
            "                 coef    std err          z      P>|z|      [0.025      0.975]\n",
            "------------------------------------------------------------------------------\n",
            "Age           -0.0452      0.015     -2.990      0.003      -0.075      -0.016\n",
            "==============================================================================\n"
          ]
        }
      ]
    }
  ],
  "metadata": {
    "kernelspec": {
      "display_name": "Python 3",
      "name": "python3"
    },
    "language_info": {
      "codemirror_mode": {
        "name": "ipython",
        "version": 3
      },
      "file_extension": ".py",
      "mimetype": "text/x-python",
      "name": "python",
      "nbconvert_exporter": "python",
      "pygments_lexer": "ipython3",
      "version": "3.11.4"
    },
    "colab": {
      "provenance": [],
      "gpuType": "T4",
      "include_colab_link": true
    },
    "accelerator": "GPU"
  },
  "nbformat": 4,
  "nbformat_minor": 5
}